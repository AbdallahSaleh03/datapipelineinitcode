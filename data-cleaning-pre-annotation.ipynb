{
 "cells": [
  {
   "cell_type": "code",
   "execution_count": 1,
   "metadata": {
    "_cell_guid": "b1076dfc-b9ad-4769-8c92-a6c4dae69d19",
    "_uuid": "8f2839f25d086af736a60e9eeb907d3b93b6e0e5",
    "execution": {
     "iopub.execute_input": "2024-10-06T08:46:44.525412Z",
     "iopub.status.busy": "2024-10-06T08:46:44.524817Z",
     "iopub.status.idle": "2024-10-06T08:46:45.044309Z",
     "shell.execute_reply": "2024-10-06T08:46:45.043041Z",
     "shell.execute_reply.started": "2024-10-06T08:46:44.525365Z"
    }
   },
   "outputs": [],
   "source": [
    "import pandas as pd\n",
    "import numpy as np\n",
    "import re\n",
    "import emoji"
   ]
  },
  {
   "cell_type": "markdown",
   "metadata": {},
   "source": [
    "### Loading the Dataset\n",
    "\n",
    "The Facebook comments dataset can be loaded from an Excel file (e.g., ```comments.xlsx```) or a CSV file. The ```skiprows=6``` parameter is used when loading the Excel file to skip the first six rows, which contain metadata such as  comments export website details, post link, timezone information, and empty rows. However, if the dataset is in CSV format, this parameter should be omitted or set to its default value, as CSV files typically don't contain such metadata in the same structure.\n",
    "\n"
   ]
  },
  {
   "cell_type": "code",
   "execution_count": 2,
   "metadata": {
    "execution": {
     "iopub.execute_input": "2024-10-06T08:46:45.046900Z",
     "iopub.status.busy": "2024-10-06T08:46:45.046345Z",
     "iopub.status.idle": "2024-10-06T08:46:45.460787Z",
     "shell.execute_reply": "2024-10-06T08:46:45.459649Z",
     "shell.execute_reply.started": "2024-10-06T08:46:45.046856Z"
    }
   },
   "outputs": [],
   "source": [
    "df = pd.read_excel('/kaggle/input/fb-comments/comments.xlsx', skiprows = 6)"
   ]
  },
  {
   "cell_type": "markdown",
   "metadata": {},
   "source": [
    "### Previewing the Dataset"
   ]
  },
  {
   "cell_type": "code",
   "execution_count": 3,
   "metadata": {
    "execution": {
     "iopub.execute_input": "2024-10-06T08:46:45.550514Z",
     "iopub.status.busy": "2024-10-06T08:46:45.549389Z",
     "iopub.status.idle": "2024-10-06T08:46:45.578185Z",
     "shell.execute_reply": "2024-10-06T08:46:45.577006Z",
     "shell.execute_reply.started": "2024-10-06T08:46:45.550462Z"
    }
   },
   "outputs": [
    {
     "data": {
      "text/html": [
       "<div>\n",
       "<style scoped>\n",
       "    .dataframe tbody tr th:only-of-type {\n",
       "        vertical-align: middle;\n",
       "    }\n",
       "\n",
       "    .dataframe tbody tr th {\n",
       "        vertical-align: top;\n",
       "    }\n",
       "\n",
       "    .dataframe thead th {\n",
       "        text-align: right;\n",
       "    }\n",
       "</style>\n",
       "<table border=\"1\" class=\"dataframe\">\n",
       "  <thead>\n",
       "    <tr style=\"text-align: right;\">\n",
       "      <th></th>\n",
       "      <th>Unnamed: 0</th>\n",
       "      <th>Unnamed: 1</th>\n",
       "      <th>Name (click to view profile)</th>\n",
       "      <th>Profile ID</th>\n",
       "      <th>Date</th>\n",
       "      <th>Likes</th>\n",
       "      <th>Live video timestamp</th>\n",
       "      <th>Comment</th>\n",
       "      <th>(view source)</th>\n",
       "    </tr>\n",
       "  </thead>\n",
       "  <tbody>\n",
       "    <tr>\n",
       "      <th>0</th>\n",
       "      <td>1</td>\n",
       "      <td>NaN</td>\n",
       "      <td>Haider Aljubori</td>\n",
       "      <td>100003071543537</td>\n",
       "      <td>2024-09-26 19:09:43</td>\n",
       "      <td>NaN</td>\n",
       "      <td>-</td>\n",
       "      <td>اربع نقاط من مبارة واحده. نايمين كاعدين انتم</td>\n",
       "      <td>view comment</td>\n",
       "    </tr>\n",
       "    <tr>\n",
       "      <th>1</th>\n",
       "      <td>2</td>\n",
       "      <td>NaN</td>\n",
       "      <td>اثير الزيدي</td>\n",
       "      <td>100010105309143</td>\n",
       "      <td>2024-09-26 19:17:25</td>\n",
       "      <td>53.0</td>\n",
       "      <td>-</td>\n",
       "      <td>انه مع نقل مباراة كوريا خارج الاردن</td>\n",
       "      <td>view comment</td>\n",
       "    </tr>\n",
       "    <tr>\n",
       "      <th>2</th>\n",
       "      <td>3</td>\n",
       "      <td>NaN</td>\n",
       "      <td>شاكر محمود</td>\n",
       "      <td>100026726736221</td>\n",
       "      <td>2024-09-26 19:30:07</td>\n",
       "      <td>NaN</td>\n",
       "      <td>-</td>\n",
       "      <td>أنت تسولف بالاحلام</td>\n",
       "      <td>view comment</td>\n",
       "    </tr>\n",
       "    <tr>\n",
       "      <th>3</th>\n",
       "      <td>4</td>\n",
       "      <td>NaN</td>\n",
       "      <td>مهند السفير</td>\n",
       "      <td>100053616079766</td>\n",
       "      <td>2024-09-26 21:20:52</td>\n",
       "      <td>NaN</td>\n",
       "      <td>-</td>\n",
       "      <td>تره بعد 8 اشهر على لعبتهم بالبصرةشنو هل المنشو...</td>\n",
       "      <td>view comment</td>\n",
       "    </tr>\n",
       "    <tr>\n",
       "      <th>4</th>\n",
       "      <td>5</td>\n",
       "      <td>NaN</td>\n",
       "      <td>Mohammed Nazar</td>\n",
       "      <td>61553624182189</td>\n",
       "      <td>2024-09-26 22:51:49</td>\n",
       "      <td>NaN</td>\n",
       "      <td>-</td>\n",
       "      <td>هسه انت لايمك لاحولك المن تنشر ماتكلي لخاطر ال...</td>\n",
       "      <td>view comment</td>\n",
       "    </tr>\n",
       "  </tbody>\n",
       "</table>\n",
       "</div>"
      ],
      "text/plain": [
       "   Unnamed: 0  Unnamed: 1 Name (click to view profile)       Profile ID  \\\n",
       "0           1         NaN              Haider Aljubori  100003071543537   \n",
       "1           2         NaN                  اثير الزيدي  100010105309143   \n",
       "2           3         NaN                   شاكر محمود  100026726736221   \n",
       "3           4         NaN                  مهند السفير  100053616079766   \n",
       "4           5         NaN               Mohammed Nazar   61553624182189   \n",
       "\n",
       "                 Date  Likes Live video timestamp  \\\n",
       "0 2024-09-26 19:09:43    NaN                    -   \n",
       "1 2024-09-26 19:17:25   53.0                    -   \n",
       "2 2024-09-26 19:30:07    NaN                    -   \n",
       "3 2024-09-26 21:20:52    NaN                    -   \n",
       "4 2024-09-26 22:51:49    NaN                    -   \n",
       "\n",
       "                                             Comment (view source)  \n",
       "0       اربع نقاط من مبارة واحده. نايمين كاعدين انتم  view comment  \n",
       "1                انه مع نقل مباراة كوريا خارج الاردن  view comment  \n",
       "2                                 أنت تسولف بالاحلام  view comment  \n",
       "3  تره بعد 8 اشهر على لعبتهم بالبصرةشنو هل المنشو...  view comment  \n",
       "4  هسه انت لايمك لاحولك المن تنشر ماتكلي لخاطر ال...  view comment  "
      ]
     },
     "execution_count": 3,
     "metadata": {},
     "output_type": "execute_result"
    }
   ],
   "source": [
    "df.head()"
   ]
  },
  {
   "cell_type": "markdown",
   "metadata": {},
   "source": [
    "### Dropping Unnecessary Columns\n",
    "\n",
    "removing unnecessary columns from the dataset:\n",
    "\n",
    "* **Unnamed 0:** The default name by the ```pandas``` library in the original file its the index/number of the comment\n",
    "* **Unnamed 1:** Its an empty column in the original file\n",
    "* **Commenter Information Name (click to view profile):** Information about the commenters (a hyperlink).\n",
    "* **Comment Metadata:** Date contains the date the comment was made, Likes contains the number of likes the comment received, and Live video timestamp contains information about the live video (if applicable).\n",
    "\n",
    "The rows to be dropped can be adjusted based on decisions regarding what data to retain and how to handle the accompanying metadata. This will be determined by the project's requirements, as defined by the team, the program coordinator, and the \"IP\". This is merely a demo of how we will be handling and cleaning the comments prior to annotation."
   ]
  },
  {
   "cell_type": "code",
   "execution_count": 4,
   "metadata": {
    "execution": {
     "iopub.execute_input": "2024-10-06T08:46:45.909413Z",
     "iopub.status.busy": "2024-10-06T08:46:45.908993Z",
     "iopub.status.idle": "2024-10-06T08:46:45.920941Z",
     "shell.execute_reply": "2024-10-06T08:46:45.919668Z",
     "shell.execute_reply.started": "2024-10-06T08:46:45.909372Z"
    }
   },
   "outputs": [],
   "source": [
    "df = df.drop(['Unnamed: 0', 'Unnamed: 1', 'Name (click to view profile)', 'Profile ID', 'Date','Likes', 'Live video timestamp'], axis=1)"
   ]
  },
  {
   "cell_type": "code",
   "execution_count": 5,
   "metadata": {
    "execution": {
     "iopub.execute_input": "2024-10-06T08:46:46.125055Z",
     "iopub.status.busy": "2024-10-06T08:46:46.124607Z",
     "iopub.status.idle": "2024-10-06T08:46:46.136883Z",
     "shell.execute_reply": "2024-10-06T08:46:46.135496Z",
     "shell.execute_reply.started": "2024-10-06T08:46:46.125014Z"
    }
   },
   "outputs": [
    {
     "data": {
      "text/html": [
       "<div>\n",
       "<style scoped>\n",
       "    .dataframe tbody tr th:only-of-type {\n",
       "        vertical-align: middle;\n",
       "    }\n",
       "\n",
       "    .dataframe tbody tr th {\n",
       "        vertical-align: top;\n",
       "    }\n",
       "\n",
       "    .dataframe thead th {\n",
       "        text-align: right;\n",
       "    }\n",
       "</style>\n",
       "<table border=\"1\" class=\"dataframe\">\n",
       "  <thead>\n",
       "    <tr style=\"text-align: right;\">\n",
       "      <th></th>\n",
       "      <th>Comment</th>\n",
       "      <th>(view source)</th>\n",
       "    </tr>\n",
       "  </thead>\n",
       "  <tbody>\n",
       "    <tr>\n",
       "      <th>0</th>\n",
       "      <td>اربع نقاط من مبارة واحده. نايمين كاعدين انتم</td>\n",
       "      <td>view comment</td>\n",
       "    </tr>\n",
       "    <tr>\n",
       "      <th>1</th>\n",
       "      <td>انه مع نقل مباراة كوريا خارج الاردن</td>\n",
       "      <td>view comment</td>\n",
       "    </tr>\n",
       "    <tr>\n",
       "      <th>2</th>\n",
       "      <td>أنت تسولف بالاحلام</td>\n",
       "      <td>view comment</td>\n",
       "    </tr>\n",
       "    <tr>\n",
       "      <th>3</th>\n",
       "      <td>تره بعد 8 اشهر على لعبتهم بالبصرةشنو هل المنشو...</td>\n",
       "      <td>view comment</td>\n",
       "    </tr>\n",
       "    <tr>\n",
       "      <th>4</th>\n",
       "      <td>هسه انت لايمك لاحولك المن تنشر ماتكلي لخاطر ال...</td>\n",
       "      <td>view comment</td>\n",
       "    </tr>\n",
       "  </tbody>\n",
       "</table>\n",
       "</div>"
      ],
      "text/plain": [
       "                                             Comment (view source)\n",
       "0       اربع نقاط من مبارة واحده. نايمين كاعدين انتم  view comment\n",
       "1                انه مع نقل مباراة كوريا خارج الاردن  view comment\n",
       "2                                 أنت تسولف بالاحلام  view comment\n",
       "3  تره بعد 8 اشهر على لعبتهم بالبصرةشنو هل المنشو...  view comment\n",
       "4  هسه انت لايمك لاحولك المن تنشر ماتكلي لخاطر ال...  view comment"
      ]
     },
     "execution_count": 5,
     "metadata": {},
     "output_type": "execute_result"
    }
   ],
   "source": [
    "df.head()"
   ]
  },
  {
   "cell_type": "markdown",
   "metadata": {},
   "source": [
    "### Text Cleaning Functions\n",
    "\n",
    "The ```is_arabic``` function checks if a given character is within the Arabic Unicode block.\n",
    "\n",
    "The ```clean_text``` function cleans a given text by:\n",
    "\n",
    "* **Filtering Characters:** keeping only Arabic letters, emojis, or spaces.\n",
    "* **Removing Short Sentences:** removing sentences with less than ```min_length``` words.\n",
    "* **Removing Empty Strings and Whitespaces:** removing empty strings and leading/trailing whitespaces.\n",
    "* **Removing Emoji-only Text:** returning an empty string if the text consists only of emojis."
   ]
  },
  {
   "cell_type": "code",
   "execution_count": 6,
   "metadata": {
    "execution": {
     "iopub.execute_input": "2024-10-06T08:46:46.502616Z",
     "iopub.status.busy": "2024-10-06T08:46:46.502167Z",
     "iopub.status.idle": "2024-10-06T08:46:46.512764Z",
     "shell.execute_reply": "2024-10-06T08:46:46.511305Z",
     "shell.execute_reply.started": "2024-10-06T08:46:46.502573Z"
    }
   },
   "outputs": [],
   "source": [
    "\n",
    "def is_arabic(char):\n",
    "    # Check if the character is within the Arabic Unicode block\n",
    "    return '\\u0600' <= char <= '\\u06FF'\n",
    "\n",
    "def clean_text(text, min_length=1):\n",
    "    # Filter characters: keep Arabic letters, emojis, or spaces\n",
    "    filtered_text = ''.join([char for char in text if is_arabic(char) or char == ' ' or emoji.is_emoji(char)])\n",
    "\n",
    "    # Remove short sentences (less than min_length)\n",
    "    filtered_text = ' '.join([sentence for sentence in filtered_text.split('.') if len(sentence.split()) >= min_length])\n",
    "\n",
    "    # Remove empty strings and leading/trailing whitespaces\n",
    "    filtered_text = ' '.join([word for word in filtered_text.split() if word != '']).strip()\n",
    "\n",
    "    # If the text consists only of emojis, return an empty string\n",
    "    if all(emoji.is_emoji(char) for char in filtered_text) and len(filtered_text) > 0:\n",
    "        return ''\n",
    "\n",
    "    return filtered_text\n",
    "\n"
   ]
  },
  {
   "cell_type": "markdown",
   "metadata": {},
   "source": [
    "### Cleaning the Comment Column\n",
    "Applying the ```clean_text``` function to each comment in the ```Comment``` column of the dataframe"
   ]
  },
  {
   "cell_type": "code",
   "execution_count": 7,
   "metadata": {
    "execution": {
     "iopub.execute_input": "2024-10-06T08:46:46.879783Z",
     "iopub.status.busy": "2024-10-06T08:46:46.879239Z",
     "iopub.status.idle": "2024-10-06T08:46:46.890958Z",
     "shell.execute_reply": "2024-10-06T08:46:46.889545Z",
     "shell.execute_reply.started": "2024-10-06T08:46:46.879723Z"
    }
   },
   "outputs": [],
   "source": [
    "df['Comment'] = df['Comment'].apply(clean_text)"
   ]
  },
  {
   "cell_type": "code",
   "execution_count": 8,
   "metadata": {
    "execution": {
     "iopub.execute_input": "2024-10-06T08:46:47.834914Z",
     "iopub.status.busy": "2024-10-06T08:46:47.834457Z",
     "iopub.status.idle": "2024-10-06T08:46:47.851614Z",
     "shell.execute_reply": "2024-10-06T08:46:47.849995Z",
     "shell.execute_reply.started": "2024-10-06T08:46:47.834871Z"
    }
   },
   "outputs": [
    {
     "data": {
      "text/html": [
       "<div>\n",
       "<style scoped>\n",
       "    .dataframe tbody tr th:only-of-type {\n",
       "        vertical-align: middle;\n",
       "    }\n",
       "\n",
       "    .dataframe tbody tr th {\n",
       "        vertical-align: top;\n",
       "    }\n",
       "\n",
       "    .dataframe thead th {\n",
       "        text-align: right;\n",
       "    }\n",
       "</style>\n",
       "<table border=\"1\" class=\"dataframe\">\n",
       "  <thead>\n",
       "    <tr style=\"text-align: right;\">\n",
       "      <th></th>\n",
       "      <th>Comment</th>\n",
       "      <th>(view source)</th>\n",
       "    </tr>\n",
       "  </thead>\n",
       "  <tbody>\n",
       "    <tr>\n",
       "      <th>0</th>\n",
       "      <td>اربع نقاط من مبارة واحده نايمين كاعدين انتم</td>\n",
       "      <td>view comment</td>\n",
       "    </tr>\n",
       "    <tr>\n",
       "      <th>1</th>\n",
       "      <td>انه مع نقل مباراة كوريا خارج الاردن</td>\n",
       "      <td>view comment</td>\n",
       "    </tr>\n",
       "    <tr>\n",
       "      <th>2</th>\n",
       "      <td>أنت تسولف بالاحلام</td>\n",
       "      <td>view comment</td>\n",
       "    </tr>\n",
       "    <tr>\n",
       "      <th>3</th>\n",
       "      <td>تره بعد اشهر على لعبتهم بالبصرةشنو هل المنشورا...</td>\n",
       "      <td>view comment</td>\n",
       "    </tr>\n",
       "    <tr>\n",
       "      <th>4</th>\n",
       "      <td>هسه انت لايمك لاحولك المن تنشر ماتكلي لخاطر ال...</td>\n",
       "      <td>view comment</td>\n",
       "    </tr>\n",
       "    <tr>\n",
       "      <th>...</th>\n",
       "      <td>...</td>\n",
       "      <td>...</td>\n",
       "    </tr>\n",
       "    <tr>\n",
       "      <th>94</th>\n",
       "      <td>باذن الله نطيح بكوريا ونتاهل مع بعض</td>\n",
       "      <td>view comment</td>\n",
       "    </tr>\n",
       "    <tr>\n",
       "      <th>95</th>\n",
       "      <td>على حساباتك هي كوريا تاخذ نقطتين من ١٢ مع العر...</td>\n",
       "      <td>view comment</td>\n",
       "    </tr>\n",
       "    <tr>\n",
       "      <th>96</th>\n",
       "      <td>منتخب العراق صار سنين يلعب خارج ارضه وانت الكو...</td>\n",
       "      <td>view comment</td>\n",
       "    </tr>\n",
       "    <tr>\n",
       "      <th>97</th>\n",
       "      <td>ولكن عدم التفريط بالنقاط مع الفرق العربيه داخل...</td>\n",
       "      <td>view comment</td>\n",
       "    </tr>\n",
       "    <tr>\n",
       "      <th>98</th>\n",
       "      <td>الكاتب الموضوع يعرف يحسب بعدين بيحكي</td>\n",
       "      <td>view comment</td>\n",
       "    </tr>\n",
       "  </tbody>\n",
       "</table>\n",
       "<p>99 rows × 2 columns</p>\n",
       "</div>"
      ],
      "text/plain": [
       "                                              Comment (view source)\n",
       "0         اربع نقاط من مبارة واحده نايمين كاعدين انتم  view comment\n",
       "1                 انه مع نقل مباراة كوريا خارج الاردن  view comment\n",
       "2                                  أنت تسولف بالاحلام  view comment\n",
       "3   تره بعد اشهر على لعبتهم بالبصرةشنو هل المنشورا...  view comment\n",
       "4   هسه انت لايمك لاحولك المن تنشر ماتكلي لخاطر ال...  view comment\n",
       "..                                                ...           ...\n",
       "94                باذن الله نطيح بكوريا ونتاهل مع بعض  view comment\n",
       "95  على حساباتك هي كوريا تاخذ نقطتين من ١٢ مع العر...  view comment\n",
       "96  منتخب العراق صار سنين يلعب خارج ارضه وانت الكو...  view comment\n",
       "97  ولكن عدم التفريط بالنقاط مع الفرق العربيه داخل...  view comment\n",
       "98               الكاتب الموضوع يعرف يحسب بعدين بيحكي  view comment\n",
       "\n",
       "[99 rows x 2 columns]"
      ]
     },
     "execution_count": 8,
     "metadata": {},
     "output_type": "execute_result"
    }
   ],
   "source": [
    "df\n"
   ]
  },
  {
   "cell_type": "markdown",
   "metadata": {},
   "source": [
    "### Removing Rows Empty Comments"
   ]
  },
  {
   "cell_type": "code",
   "execution_count": 9,
   "metadata": {
    "execution": {
     "iopub.execute_input": "2024-10-06T08:46:49.429265Z",
     "iopub.status.busy": "2024-10-06T08:46:49.428758Z",
     "iopub.status.idle": "2024-10-06T08:46:49.436837Z",
     "shell.execute_reply": "2024-10-06T08:46:49.435507Z",
     "shell.execute_reply.started": "2024-10-06T08:46:49.429210Z"
    }
   },
   "outputs": [],
   "source": [
    "# Drop rows where the 'comments' column is empty\n",
    "df = df[df['Comment'] != '']"
   ]
  },
  {
   "cell_type": "code",
   "execution_count": 10,
   "metadata": {
    "execution": {
     "iopub.execute_input": "2024-10-06T08:46:49.935846Z",
     "iopub.status.busy": "2024-10-06T08:46:49.935395Z",
     "iopub.status.idle": "2024-10-06T08:46:49.951627Z",
     "shell.execute_reply": "2024-10-06T08:46:49.950250Z",
     "shell.execute_reply.started": "2024-10-06T08:46:49.935804Z"
    }
   },
   "outputs": [
    {
     "data": {
      "text/html": [
       "<div>\n",
       "<style scoped>\n",
       "    .dataframe tbody tr th:only-of-type {\n",
       "        vertical-align: middle;\n",
       "    }\n",
       "\n",
       "    .dataframe tbody tr th {\n",
       "        vertical-align: top;\n",
       "    }\n",
       "\n",
       "    .dataframe thead th {\n",
       "        text-align: right;\n",
       "    }\n",
       "</style>\n",
       "<table border=\"1\" class=\"dataframe\">\n",
       "  <thead>\n",
       "    <tr style=\"text-align: right;\">\n",
       "      <th></th>\n",
       "      <th>Comment</th>\n",
       "      <th>(view source)</th>\n",
       "    </tr>\n",
       "  </thead>\n",
       "  <tbody>\n",
       "    <tr>\n",
       "      <th>0</th>\n",
       "      <td>اربع نقاط من مبارة واحده نايمين كاعدين انتم</td>\n",
       "      <td>view comment</td>\n",
       "    </tr>\n",
       "    <tr>\n",
       "      <th>1</th>\n",
       "      <td>انه مع نقل مباراة كوريا خارج الاردن</td>\n",
       "      <td>view comment</td>\n",
       "    </tr>\n",
       "    <tr>\n",
       "      <th>2</th>\n",
       "      <td>أنت تسولف بالاحلام</td>\n",
       "      <td>view comment</td>\n",
       "    </tr>\n",
       "    <tr>\n",
       "      <th>3</th>\n",
       "      <td>تره بعد اشهر على لعبتهم بالبصرةشنو هل المنشورا...</td>\n",
       "      <td>view comment</td>\n",
       "    </tr>\n",
       "    <tr>\n",
       "      <th>4</th>\n",
       "      <td>هسه انت لايمك لاحولك المن تنشر ماتكلي لخاطر ال...</td>\n",
       "      <td>view comment</td>\n",
       "    </tr>\n",
       "    <tr>\n",
       "      <th>...</th>\n",
       "      <td>...</td>\n",
       "      <td>...</td>\n",
       "    </tr>\n",
       "    <tr>\n",
       "      <th>94</th>\n",
       "      <td>باذن الله نطيح بكوريا ونتاهل مع بعض</td>\n",
       "      <td>view comment</td>\n",
       "    </tr>\n",
       "    <tr>\n",
       "      <th>95</th>\n",
       "      <td>على حساباتك هي كوريا تاخذ نقطتين من ١٢ مع العر...</td>\n",
       "      <td>view comment</td>\n",
       "    </tr>\n",
       "    <tr>\n",
       "      <th>96</th>\n",
       "      <td>منتخب العراق صار سنين يلعب خارج ارضه وانت الكو...</td>\n",
       "      <td>view comment</td>\n",
       "    </tr>\n",
       "    <tr>\n",
       "      <th>97</th>\n",
       "      <td>ولكن عدم التفريط بالنقاط مع الفرق العربيه داخل...</td>\n",
       "      <td>view comment</td>\n",
       "    </tr>\n",
       "    <tr>\n",
       "      <th>98</th>\n",
       "      <td>الكاتب الموضوع يعرف يحسب بعدين بيحكي</td>\n",
       "      <td>view comment</td>\n",
       "    </tr>\n",
       "  </tbody>\n",
       "</table>\n",
       "<p>99 rows × 2 columns</p>\n",
       "</div>"
      ],
      "text/plain": [
       "                                              Comment (view source)\n",
       "0         اربع نقاط من مبارة واحده نايمين كاعدين انتم  view comment\n",
       "1                 انه مع نقل مباراة كوريا خارج الاردن  view comment\n",
       "2                                  أنت تسولف بالاحلام  view comment\n",
       "3   تره بعد اشهر على لعبتهم بالبصرةشنو هل المنشورا...  view comment\n",
       "4   هسه انت لايمك لاحولك المن تنشر ماتكلي لخاطر ال...  view comment\n",
       "..                                                ...           ...\n",
       "94                باذن الله نطيح بكوريا ونتاهل مع بعض  view comment\n",
       "95  على حساباتك هي كوريا تاخذ نقطتين من ١٢ مع العر...  view comment\n",
       "96  منتخب العراق صار سنين يلعب خارج ارضه وانت الكو...  view comment\n",
       "97  ولكن عدم التفريط بالنقاط مع الفرق العربيه داخل...  view comment\n",
       "98               الكاتب الموضوع يعرف يحسب بعدين بيحكي  view comment\n",
       "\n",
       "[99 rows x 2 columns]"
      ]
     },
     "execution_count": 10,
     "metadata": {},
     "output_type": "execute_result"
    }
   ],
   "source": [
    "df"
   ]
  },
  {
   "cell_type": "markdown",
   "metadata": {},
   "source": [
    "### Exporting to the Desired Format"
   ]
  },
  {
   "cell_type": "code",
   "execution_count": 11,
   "metadata": {
    "execution": {
     "iopub.execute_input": "2024-10-06T08:46:51.926481Z",
     "iopub.status.busy": "2024-10-06T08:46:51.926031Z",
     "iopub.status.idle": "2024-10-06T08:46:51.965674Z",
     "shell.execute_reply": "2024-10-06T08:46:51.964500Z",
     "shell.execute_reply.started": "2024-10-06T08:46:51.926439Z"
    }
   },
   "outputs": [],
   "source": [
    "df.to_excel('cleaned_data.xlsx', index=False)\n",
    "# df.to_csv('cleaned_data.csv', index = False)"
   ]
  },
  {
   "cell_type": "code",
   "execution_count": null,
   "metadata": {},
   "outputs": [],
   "source": []
  }
 ],
 "metadata": {
  "kaggle": {
   "accelerator": "none",
   "dataSources": [
    {
     "datasetId": 5786418,
     "sourceId": 9506933,
     "sourceType": "datasetVersion"
    }
   ],
   "dockerImageVersionId": 30775,
   "isGpuEnabled": false,
   "isInternetEnabled": true,
   "language": "python",
   "sourceType": "notebook"
  },
  "kernelspec": {
   "display_name": "Python 3 (ipykernel)",
   "language": "python",
   "name": "python3"
  },
  "language_info": {
   "codemirror_mode": {
    "name": "ipython",
    "version": 3
   },
   "file_extension": ".py",
   "mimetype": "text/x-python",
   "name": "python",
   "nbconvert_exporter": "python",
   "pygments_lexer": "ipython3",
   "version": "3.10.12"
  }
 },
 "nbformat": 4,
 "nbformat_minor": 4
}
